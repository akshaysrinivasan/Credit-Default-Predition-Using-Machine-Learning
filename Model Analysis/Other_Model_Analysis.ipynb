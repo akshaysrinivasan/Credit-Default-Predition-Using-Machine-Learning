{
  "cells": [
    {
      "cell_type": "markdown",
      "metadata": {
        "id": "F88BOezaeRuy"
      },
      "source": [
        "# Give Me Some Credit Model Setup\n",
        "![](https://www.freshfacs.com/v/vspfiles/photos/D3-2.jpg)\n",
        "Improve on the state of the art in credit scoring by predicting the probability that somebody will experience financial distress in the next two years.\n"
      ]
    },
    {
      "cell_type": "code",
      "source": [
        "# Mount Drive\n",
        "from google.colab import drive\n",
        "drive.mount('/content/drive')"
      ],
      "metadata": {
        "id": "I5nO0eDueTUr",
        "colab": {
          "base_uri": "https://localhost:8080/"
        },
        "outputId": "82e2a8e4-a92c-46aa-8dbd-a902fe76eea0"
      },
      "execution_count": null,
      "outputs": [
        {
          "output_type": "stream",
          "name": "stdout",
          "text": [
            "Mounted at /content/drive\n"
          ]
        }
      ]
    },
    {
      "cell_type": "code",
      "source": [
        "# Define Filepath\n",
        "\n",
        "file_path = '/content/drive/MyDrive/data'"
      ],
      "metadata": {
        "id": "1ILn_vm5eVj0"
      },
      "execution_count": null,
      "outputs": []
    },
    {
      "cell_type": "code",
      "execution_count": null,
      "metadata": {
        "_cell_guid": "b1076dfc-b9ad-4769-8c92-a6c4dae69d19",
        "_kg_hide-input": true,
        "_kg_hide-output": true,
        "_uuid": "8f2839f25d086af736a60e9eeb907d3b93b6e0e5",
        "id": "PR_jw1BreRuz"
      },
      "outputs": [],
      "source": [
        "import numpy as np # linear algebra\n",
        "import pandas as pd # data processing, CSV file I/O (e.g. pd.read_csv)"
      ]
    },
    {
      "cell_type": "markdown",
      "metadata": {
        "id": "cvGjZxG2eRu0"
      },
      "source": [
        "##### Around 6% of samples defaulted\n",
        "- MonthlyIncome and NumberOfDependents have 29731 (19.82%) and 3924 (2.61%) null values respectively\n",
        "- We also notice that when NumberOfTimes90DaysLate has values above 17, there are 267 instances where the three columns\n",
        "- NumberOfTimes90DaysLate, NumberOfTime60-89DaysPastDueNotWorse, NumberOfTime30-59DaysPastDueNotWorse share the same values, specifically 96 and 98.\n",
        "    - We can see that sharing the same values of 96 and 98 respectively is not logical since trivial calculations can reveal that being 30 days past due for 96 times for a single person within a timespan of 2 years is not possible.\n",
        "- RevolvingUtilizationOfUnsecuredLines\n",
        "    - Defined as ratio of the total amount of money owed to total credit limit\n",
        "distribution of values is right-skewed, consider removing outliers\n",
        "    - It is expected that as this value increases, the proportion of people defaulting should increase as well\n",
        "    - However, we can see that as the minimum value of this column is set to 13, the proportion of defaulters is smaller than that belonging to the pool of clients with total amount of money owed not exceeding total credit limit.\n",
        "    - Thus we should remove those samples with RevolvingUtilizationOfUnsecuredLines's value more than equal to 13\n",
        "- age\n",
        "    - There seems to be more younger people defaulting and the distribution seems fine on the whole\n",
        "- NumberOfTimes90DaysLate\n",
        "    - It is interesting to note that there are no one who is 90 or more days past due between 17 and 96 times.\n",
        "- NumberOfTime60-89DaysPastDueNotWorse\n",
        "    - It is interesting to note that there are no one who is 60-89 days past due between 11 and 96 times.\n",
        "- NumberOfTime30-59DaysPastDueNotWorse\n",
        "    - It is interesting to note that there are no one who is 30-59 days past due between 13 and 96 times.\n",
        "- DebtRatio\n",
        "    - 2.5% of clients owe around 3490 or more times what they own\n",
        "    - For the people who have monthly income in this 2.5%, only 185 people have values for their monthly incomes and the values are either 0 or 1.\n",
        "    - There are 164 out of these 185 people who are of two different types, first with no monthly income and does not default and second with monthly income and does default.\n",
        "- MonthlyIncome\n",
        "    - Distribution of values is skewed, we can consider imputation with median.\n",
        "    - We can also consider imputing with normally distributed values with its mean and standard deviation.\n",
        "- Numberof Dependents\n",
        "    - We can consider imputing with its mode, which is zero."
      ]
    },
    {
      "cell_type": "markdown",
      "metadata": {
        "id": "_eBYro_XeRu1"
      },
      "source": [
        "## Imports"
      ]
    },
    {
      "cell_type": "code",
      "execution_count": null,
      "metadata": {
        "_kg_hide-input": true,
        "id": "fCzmEVZmeRu1"
      },
      "outputs": [],
      "source": [
        "import warnings\n",
        "warnings.filterwarnings(\"ignore\", category=DeprecationWarning)\n",
        "warnings.filterwarnings(\"ignore\", category=UserWarning)\n",
        "warnings.filterwarnings(\"ignore\", category=FutureWarning)\n",
        "from IPython.display import HTML\n",
        "\n",
        "pd.set_option('max_columns', 50)"
      ]
    },
    {
      "cell_type": "code",
      "execution_count": null,
      "metadata": {
        "_kg_hide-input": true,
        "id": "evSyo0nzeRu2"
      },
      "outputs": [],
      "source": [
        "import seaborn as sns\n",
        "import matplotlib.pyplot as plt\n",
        "%matplotlib inline"
      ]
    },
    {
      "cell_type": "code",
      "execution_count": null,
      "metadata": {
        "_kg_hide-input": true,
        "id": "Yd9-5efXeRu2"
      },
      "outputs": [],
      "source": [
        "from sklearn.metrics import roc_auc_score,precision_recall_curve,roc_curve\n",
        "from sklearn.metrics import classification_report, accuracy_score\n",
        "from sklearn.model_selection import train_test_split\n",
        "from sklearn.metrics import roc_auc_score, confusion_matrix, auc\n",
        "from sklearn import model_selection"
      ]
    },
    {
      "cell_type": "code",
      "execution_count": null,
      "metadata": {
        "_kg_hide-input": true,
        "id": "7ilAyvLceRu2"
      },
      "outputs": [],
      "source": [
        "from sklearn.model_selection import GridSearchCV, StratifiedKFold, KFold\n",
        "from sklearn.ensemble import RandomForestClassifier, VotingClassifier\n",
        "from sklearn.linear_model import LogisticRegression\n",
        "import xgboost as xgb\n",
        "import lightgbm as lgb\n"
      ]
    },
    {
      "cell_type": "code",
      "execution_count": null,
      "metadata": {
        "_kg_hide-input": true,
        "id": "eDnj1SdqeRu3"
      },
      "outputs": [],
      "source": [
        "def evalBinaryClassifier(model, x, y, labels=['Positives','Negatives']):\n",
        "    '''\n",
        "    source: https://towardsdatascience.com/how-to-interpret-a-binary-logistic-regressor-with-scikit-learn-6d56c5783b49\n",
        "    Visualize the performance of  a Logistic Regression Binary Classifier.\n",
        "\n",
        "    Displays a labelled Confusion Matrix, distributions of the predicted\n",
        "    probabilities for both classes, the ROC curve, and F1 score of a fitted\n",
        "    Binary Logistic Classifier. Author: gregcondit.com/articles/logr-charts\n",
        "\n",
        "    Parameters\n",
        "    ----------\n",
        "    model : fitted scikit-learn model with predict_proba & predict methods\n",
        "        and classes_ attribute. Typically LogisticRegression or\n",
        "        LogisticRegressionCV\n",
        "\n",
        "    x : {array-like, sparse matrix}, shape (n_samples, n_features)\n",
        "        Training vector, where n_samples is the number of samples\n",
        "        in the data to be tested, and n_features is the number of features\n",
        "\n",
        "    y : array-like, shape (n_samples,)\n",
        "        Target vector relative to x.\n",
        "\n",
        "    labels: list, optional\n",
        "        list of text labels for the two classes, with the positive label first\n",
        "\n",
        "    Displays\n",
        "    ----------\n",
        "    3 Subplots\n",
        "\n",
        "    Returns\n",
        "    ----------\n",
        "    F1: float\n",
        "    '''\n",
        "    #model predicts probabilities of positive class\n",
        "    p = model.predict_proba(x)\n",
        "    if len(model.classes_)!=2:\n",
        "        raise ValueError('A binary class problem is required')\n",
        "    if model.classes_[1] == 1:\n",
        "        pos_p = p[:,1]\n",
        "    elif model.classes_[0] == 1:\n",
        "        pos_p = p[:,0]\n",
        "\n",
        "    #FIGURE\n",
        "    plt.figure(figsize=[15,4])\n",
        "\n",
        "    #1 -- Confusion matrix\n",
        "    cm = confusion_matrix(y,model.predict(x))\n",
        "    plt.subplot(131)\n",
        "    ax = sns.heatmap(cm, annot=True, cmap='Blues', cbar=False,\n",
        "                annot_kws={\"size\": 14}, fmt='g')\n",
        "    cmlabels = ['True Negatives', 'False Positives',\n",
        "              'False Negatives', 'True Positives']\n",
        "    for i,t in enumerate(ax.texts):\n",
        "        t.set_text(t.get_text() + \"\\n\" + cmlabels[i])\n",
        "    plt.title('Confusion Matrix', size=15)\n",
        "    plt.xlabel('Predicted Values', size=13)\n",
        "    plt.ylabel('True Values', size=13)\n",
        "\n",
        "    #2 -- Distributions of Predicted Probabilities of both classes\n",
        "    df = pd.DataFrame({'probPos':pos_p, 'target': y})\n",
        "    plt.subplot(132)\n",
        "    plt.hist(df[df.target==1].probPos, density=True, bins=25,\n",
        "             alpha=.5, color='green',  label=labels[0])\n",
        "    plt.hist(df[df.target==0].probPos, density=True, bins=25,\n",
        "             alpha=.5, color='red', label=labels[1])\n",
        "    plt.axvline(.5, color='blue', linestyle='--', label='Boundary')\n",
        "    plt.xlim([0,1])\n",
        "    plt.title('Distributions of Predictions', size=15)\n",
        "    plt.xlabel('Positive Probability (predicted)', size=13)\n",
        "    plt.ylabel('Samples (normalized scale)', size=13)\n",
        "    plt.legend(loc=\"upper right\")\n",
        "\n",
        "    #3 -- ROC curve with annotated decision point\n",
        "    fp_rates, tp_rates, _ = roc_curve(y,p[:,1])\n",
        "    roc_auc = auc(fp_rates, tp_rates)\n",
        "    plt.subplot(133)\n",
        "    plt.plot(fp_rates, tp_rates, color='green',\n",
        "             lw=1, label='ROC curve (area = %0.2f)' % roc_auc)\n",
        "    plt.plot([0, 1], [0, 1], lw=1, linestyle='--', color='grey')\n",
        "    #plot current decision point:\n",
        "    tn, fp, fn, tp = [i for i in cm.ravel()]\n",
        "    plt.plot(fp/(fp+tn), tp/(tp+fn), 'bo', markersize=8, label='Decision Point')\n",
        "    plt.xlim([0.0, 1.0])\n",
        "    plt.ylim([0.0, 1.05])\n",
        "    plt.xlabel('False Positive Rate', size=13)\n",
        "    plt.ylabel('True Positive Rate', size=13)\n",
        "    plt.title('ROC Curve', size=15)\n",
        "    plt.legend(loc=\"lower right\")\n",
        "    plt.subplots_adjust(wspace=.3)\n",
        "    plt.show()\n",
        "    #Print and Return the F1 score\n",
        "    tn, fp, fn, tp = [i for i in cm.ravel()]\n",
        "    precision = tp / (tp + fp)\n",
        "    recall = tp / (tp + fn)\n",
        "    F1 = 2*(precision * recall) / (precision + recall)\n",
        "    printout = (\n",
        "        f'Precision: {round(precision,2)} | '\n",
        "        f'Recall: {round(recall,2)} | '\n",
        "        f'F1 Score: {round(F1,2)} | '\n",
        "    )\n",
        "    print(printout)\n",
        "    return F1"
      ]
    },
    {
      "cell_type": "markdown",
      "metadata": {
        "id": "icVAPfEOeRu4"
      },
      "source": [
        "### Read Data"
      ]
    },
    {
      "cell_type": "code",
      "execution_count": null,
      "metadata": {
        "_kg_hide-input": true,
        "id": "u01J4bRTeRu4",
        "colab": {
          "base_uri": "https://localhost:8080/"
        },
        "outputId": "de3aa42d-f688-4f1e-d38a-9da1e3cedded"
      },
      "outputs": [
        {
          "output_type": "stream",
          "name": "stdout",
          "text": [
            "CPU times: user 298 ms, sys: 107 ms, total: 405 ms\n",
            "Wall time: 1.37 s\n"
          ]
        }
      ],
      "source": [
        "%%time\n",
        "sampleEntry = pd.read_csv(file_path + '/sampleEntry.csv')\n",
        "train = pd.read_csv(file_path + '/cs-training.csv')\n",
        "test = pd.read_csv(file_path + '/cs-test.csv')"
      ]
    },
    {
      "cell_type": "markdown",
      "metadata": {
        "id": "mKGDA9SLeRu5"
      },
      "source": [
        "Variable Name\tDescription\tType\n",
        "- ``SeriousDlqin2yrs``\tPerson experienced 90 days past due delinquency or worse\tY/N\n",
        "- ``RevolvingUtilizationOfUnsecuredLines``\tTotal balance on credit cards and personal lines of credit except real estate and no installment debt like car loans divided by the sum of credit limits\tpercentage\n",
        "- ``age``\tAge of borrower in years\tinteger\n",
        "- ``NumberOfTime3059DaysPastDueNotWorse``\tNumber of times borrower has been 30-59 days past due but no worse in the last 2 years.\tinteger\n",
        "- ``DebtRatio``\tMonthly debt payments, alimony,living costs divided by monthy gross income\tpercentage\n",
        "- ``MonthlyIncome``\tMonthly income\treal\n",
        "- ``NumberOfOpenCreditLinesAndLoans``\tNumber of Open loans (installment like car loan or mortgage) and Lines of credit (e.g. credit cards)\tinteger\n",
        "- ``NumberOfTimes90DaysLate``\tNumber of times borrower has been 90 days or more past due.\tinteger\n",
        "- ``NumberRealEstateLoansOrLines``\tNumber of mortgage and real estate loans including home equity lines of credit\tinteger\n",
        "- ``NumberOfTime60-89DaysPastDueNotWorse``\tNumber of times borrower has been 60-89 days past due but no worse in the last 2 years.\tinteger\n",
        "- ``NumberOfDependents``\tNumber of dependents in family excluding themselves (spouse, children etc.)\tinteger"
      ]
    },
    {
      "cell_type": "code",
      "execution_count": null,
      "metadata": {
        "id": "KV_JRIEbeRu5",
        "colab": {
          "base_uri": "https://localhost:8080/"
        },
        "outputId": "1d19e598-cae2-400c-bb01-fd7ee499f1c2"
      },
      "outputs": [
        {
          "output_type": "stream",
          "name": "stdout",
          "text": [
            "train shape   (150000, 12)\n"
          ]
        }
      ],
      "source": [
        "print('train shape  ',train.shape)"
      ]
    },
    {
      "cell_type": "code",
      "execution_count": null,
      "metadata": {
        "id": "vGM0UPrXeRu5",
        "colab": {
          "base_uri": "https://localhost:8080/"
        },
        "outputId": "d0500a4a-e8e4-4da8-dd2f-0e5a5bea1e22"
      },
      "outputs": [
        {
          "output_type": "execute_result",
          "data": {
            "text/plain": [
              "int64      8\n",
              "float64    4\n",
              "dtype: int64"
            ]
          },
          "metadata": {},
          "execution_count": 11
        }
      ],
      "source": [
        "train.dtypes.value_counts()"
      ]
    },
    {
      "cell_type": "code",
      "execution_count": null,
      "metadata": {
        "id": "3DIlMHaGeRu6",
        "colab": {
          "base_uri": "https://localhost:8080/"
        },
        "outputId": "63b9b38a-e4c5-4a7f-9cf1-661fbd5d4dea"
      },
      "outputs": [
        {
          "output_type": "stream",
          "name": "stdout",
          "text": [
            "<class 'pandas.core.frame.DataFrame'>\n",
            "RangeIndex: 150000 entries, 0 to 149999\n",
            "Data columns (total 12 columns):\n",
            " #   Column                                Non-Null Count   Dtype  \n",
            "---  ------                                --------------   -----  \n",
            " 0   Unnamed: 0                            150000 non-null  int64  \n",
            " 1   SeriousDlqin2yrs                      150000 non-null  int64  \n",
            " 2   RevolvingUtilizationOfUnsecuredLines  150000 non-null  float64\n",
            " 3   age                                   150000 non-null  int64  \n",
            " 4   NumberOfTime30-59DaysPastDueNotWorse  150000 non-null  int64  \n",
            " 5   DebtRatio                             150000 non-null  float64\n",
            " 6   MonthlyIncome                         120269 non-null  float64\n",
            " 7   NumberOfOpenCreditLinesAndLoans       150000 non-null  int64  \n",
            " 8   NumberOfTimes90DaysLate               150000 non-null  int64  \n",
            " 9   NumberRealEstateLoansOrLines          150000 non-null  int64  \n",
            " 10  NumberOfTime60-89DaysPastDueNotWorse  150000 non-null  int64  \n",
            " 11  NumberOfDependents                    146076 non-null  float64\n",
            "dtypes: float64(4), int64(8)\n",
            "memory usage: 13.7 MB\n"
          ]
        }
      ],
      "source": [
        "train.info()"
      ]
    },
    {
      "cell_type": "code",
      "execution_count": null,
      "metadata": {
        "_cell_guid": "79c7e3d0-c299-4dcb-8224-4455121ee9b0",
        "_uuid": "d629ff2d2480ee46fbb7e2d37f6b5fab8052498a",
        "id": "3si93jD8eRu6",
        "colab": {
          "base_uri": "https://localhost:8080/",
          "height": 288
        },
        "outputId": "6cb11316-da03-41b1-b09d-92aa19b2d1f1"
      },
      "outputs": [
        {
          "output_type": "execute_result",
          "data": {
            "text/plain": [
              "   SeriousDlqin2yrs  RevolvingUtilizationOfUnsecuredLines  age  \\\n",
              "0                 1                              0.766127   45   \n",
              "1                 0                              0.957151   40   \n",
              "2                 0                              0.658180   38   \n",
              "3                 0                              0.233810   30   \n",
              "4                 0                              0.907239   49   \n",
              "\n",
              "   NumberOfTime30-59DaysPastDueNotWorse  DebtRatio  MonthlyIncome  \\\n",
              "0                                     2   0.802982         9120.0   \n",
              "1                                     0   0.121876         2600.0   \n",
              "2                                     1   0.085113         3042.0   \n",
              "3                                     0   0.036050         3300.0   \n",
              "4                                     1   0.024926        63588.0   \n",
              "\n",
              "   NumberOfOpenCreditLinesAndLoans  NumberOfTimes90DaysLate  \\\n",
              "0                               13                        0   \n",
              "1                                4                        0   \n",
              "2                                2                        1   \n",
              "3                                5                        0   \n",
              "4                                7                        0   \n",
              "\n",
              "   NumberRealEstateLoansOrLines  NumberOfTime60-89DaysPastDueNotWorse  \\\n",
              "0                             6                                     0   \n",
              "1                             0                                     0   \n",
              "2                             0                                     0   \n",
              "3                             0                                     0   \n",
              "4                             1                                     0   \n",
              "\n",
              "   NumberOfDependents  \n",
              "0                 2.0  \n",
              "1                 1.0  \n",
              "2                 0.0  \n",
              "3                 0.0  \n",
              "4                 0.0  "
            ],
            "text/html": [
              "\n",
              "  <div id=\"df-867d3e9b-8bcb-43ab-9afc-4255e5fb6103\">\n",
              "    <div class=\"colab-df-container\">\n",
              "      <div>\n",
              "<style scoped>\n",
              "    .dataframe tbody tr th:only-of-type {\n",
              "        vertical-align: middle;\n",
              "    }\n",
              "\n",
              "    .dataframe tbody tr th {\n",
              "        vertical-align: top;\n",
              "    }\n",
              "\n",
              "    .dataframe thead th {\n",
              "        text-align: right;\n",
              "    }\n",
              "</style>\n",
              "<table border=\"1\" class=\"dataframe\">\n",
              "  <thead>\n",
              "    <tr style=\"text-align: right;\">\n",
              "      <th></th>\n",
              "      <th>SeriousDlqin2yrs</th>\n",
              "      <th>RevolvingUtilizationOfUnsecuredLines</th>\n",
              "      <th>age</th>\n",
              "      <th>NumberOfTime30-59DaysPastDueNotWorse</th>\n",
              "      <th>DebtRatio</th>\n",
              "      <th>MonthlyIncome</th>\n",
              "      <th>NumberOfOpenCreditLinesAndLoans</th>\n",
              "      <th>NumberOfTimes90DaysLate</th>\n",
              "      <th>NumberRealEstateLoansOrLines</th>\n",
              "      <th>NumberOfTime60-89DaysPastDueNotWorse</th>\n",
              "      <th>NumberOfDependents</th>\n",
              "    </tr>\n",
              "  </thead>\n",
              "  <tbody>\n",
              "    <tr>\n",
              "      <th>0</th>\n",
              "      <td>1</td>\n",
              "      <td>0.766127</td>\n",
              "      <td>45</td>\n",
              "      <td>2</td>\n",
              "      <td>0.802982</td>\n",
              "      <td>9120.0</td>\n",
              "      <td>13</td>\n",
              "      <td>0</td>\n",
              "      <td>6</td>\n",
              "      <td>0</td>\n",
              "      <td>2.0</td>\n",
              "    </tr>\n",
              "    <tr>\n",
              "      <th>1</th>\n",
              "      <td>0</td>\n",
              "      <td>0.957151</td>\n",
              "      <td>40</td>\n",
              "      <td>0</td>\n",
              "      <td>0.121876</td>\n",
              "      <td>2600.0</td>\n",
              "      <td>4</td>\n",
              "      <td>0</td>\n",
              "      <td>0</td>\n",
              "      <td>0</td>\n",
              "      <td>1.0</td>\n",
              "    </tr>\n",
              "    <tr>\n",
              "      <th>2</th>\n",
              "      <td>0</td>\n",
              "      <td>0.658180</td>\n",
              "      <td>38</td>\n",
              "      <td>1</td>\n",
              "      <td>0.085113</td>\n",
              "      <td>3042.0</td>\n",
              "      <td>2</td>\n",
              "      <td>1</td>\n",
              "      <td>0</td>\n",
              "      <td>0</td>\n",
              "      <td>0.0</td>\n",
              "    </tr>\n",
              "    <tr>\n",
              "      <th>3</th>\n",
              "      <td>0</td>\n",
              "      <td>0.233810</td>\n",
              "      <td>30</td>\n",
              "      <td>0</td>\n",
              "      <td>0.036050</td>\n",
              "      <td>3300.0</td>\n",
              "      <td>5</td>\n",
              "      <td>0</td>\n",
              "      <td>0</td>\n",
              "      <td>0</td>\n",
              "      <td>0.0</td>\n",
              "    </tr>\n",
              "    <tr>\n",
              "      <th>4</th>\n",
              "      <td>0</td>\n",
              "      <td>0.907239</td>\n",
              "      <td>49</td>\n",
              "      <td>1</td>\n",
              "      <td>0.024926</td>\n",
              "      <td>63588.0</td>\n",
              "      <td>7</td>\n",
              "      <td>0</td>\n",
              "      <td>1</td>\n",
              "      <td>0</td>\n",
              "      <td>0.0</td>\n",
              "    </tr>\n",
              "  </tbody>\n",
              "</table>\n",
              "</div>\n",
              "      <button class=\"colab-df-convert\" onclick=\"convertToInteractive('df-867d3e9b-8bcb-43ab-9afc-4255e5fb6103')\"\n",
              "              title=\"Convert this dataframe to an interactive table.\"\n",
              "              style=\"display:none;\">\n",
              "        \n",
              "  <svg xmlns=\"http://www.w3.org/2000/svg\" height=\"24px\"viewBox=\"0 0 24 24\"\n",
              "       width=\"24px\">\n",
              "    <path d=\"M0 0h24v24H0V0z\" fill=\"none\"/>\n",
              "    <path d=\"M18.56 5.44l.94 2.06.94-2.06 2.06-.94-2.06-.94-.94-2.06-.94 2.06-2.06.94zm-11 1L8.5 8.5l.94-2.06 2.06-.94-2.06-.94L8.5 2.5l-.94 2.06-2.06.94zm10 10l.94 2.06.94-2.06 2.06-.94-2.06-.94-.94-2.06-.94 2.06-2.06.94z\"/><path d=\"M17.41 7.96l-1.37-1.37c-.4-.4-.92-.59-1.43-.59-.52 0-1.04.2-1.43.59L10.3 9.45l-7.72 7.72c-.78.78-.78 2.05 0 2.83L4 21.41c.39.39.9.59 1.41.59.51 0 1.02-.2 1.41-.59l7.78-7.78 2.81-2.81c.8-.78.8-2.07 0-2.86zM5.41 20L4 18.59l7.72-7.72 1.47 1.35L5.41 20z\"/>\n",
              "  </svg>\n",
              "      </button>\n",
              "      \n",
              "  <style>\n",
              "    .colab-df-container {\n",
              "      display:flex;\n",
              "      flex-wrap:wrap;\n",
              "      gap: 12px;\n",
              "    }\n",
              "\n",
              "    .colab-df-convert {\n",
              "      background-color: #E8F0FE;\n",
              "      border: none;\n",
              "      border-radius: 50%;\n",
              "      cursor: pointer;\n",
              "      display: none;\n",
              "      fill: #1967D2;\n",
              "      height: 32px;\n",
              "      padding: 0 0 0 0;\n",
              "      width: 32px;\n",
              "    }\n",
              "\n",
              "    .colab-df-convert:hover {\n",
              "      background-color: #E2EBFA;\n",
              "      box-shadow: 0px 1px 2px rgba(60, 64, 67, 0.3), 0px 1px 3px 1px rgba(60, 64, 67, 0.15);\n",
              "      fill: #174EA6;\n",
              "    }\n",
              "\n",
              "    [theme=dark] .colab-df-convert {\n",
              "      background-color: #3B4455;\n",
              "      fill: #D2E3FC;\n",
              "    }\n",
              "\n",
              "    [theme=dark] .colab-df-convert:hover {\n",
              "      background-color: #434B5C;\n",
              "      box-shadow: 0px 1px 3px 1px rgba(0, 0, 0, 0.15);\n",
              "      filter: drop-shadow(0px 1px 2px rgba(0, 0, 0, 0.3));\n",
              "      fill: #FFFFFF;\n",
              "    }\n",
              "  </style>\n",
              "\n",
              "      <script>\n",
              "        const buttonEl =\n",
              "          document.querySelector('#df-867d3e9b-8bcb-43ab-9afc-4255e5fb6103 button.colab-df-convert');\n",
              "        buttonEl.style.display =\n",
              "          google.colab.kernel.accessAllowed ? 'block' : 'none';\n",
              "\n",
              "        async function convertToInteractive(key) {\n",
              "          const element = document.querySelector('#df-867d3e9b-8bcb-43ab-9afc-4255e5fb6103');\n",
              "          const dataTable =\n",
              "            await google.colab.kernel.invokeFunction('convertToInteractive',\n",
              "                                                     [key], {});\n",
              "          if (!dataTable) return;\n",
              "\n",
              "          const docLinkHtml = 'Like what you see? Visit the ' +\n",
              "            '<a target=\"_blank\" href=https://colab.research.google.com/notebooks/data_table.ipynb>data table notebook</a>'\n",
              "            + ' to learn more about interactive tables.';\n",
              "          element.innerHTML = '';\n",
              "          dataTable['output_type'] = 'display_data';\n",
              "          await google.colab.output.renderOutput(dataTable, element);\n",
              "          const docLink = document.createElement('div');\n",
              "          docLink.innerHTML = docLinkHtml;\n",
              "          element.appendChild(docLink);\n",
              "        }\n",
              "      </script>\n",
              "    </div>\n",
              "  </div>\n",
              "  "
            ]
          },
          "metadata": {},
          "execution_count": 13
        }
      ],
      "source": [
        "train = train.dropna()\n",
        "train = train.drop(columns = ['Unnamed: 0'])\n",
        "train.head()"
      ]
    },
    {
      "cell_type": "markdown",
      "metadata": {
        "id": "XIgGNmYXeRu6"
      },
      "source": [
        "## Data Duplicate Analysis"
      ]
    },
    {
      "cell_type": "code",
      "execution_count": null,
      "metadata": {
        "_kg_hide-input": true,
        "id": "m9kITSINeRu7",
        "colab": {
          "base_uri": "https://localhost:8080/",
          "height": 242
        },
        "outputId": "1d22c173-c6bf-458b-cb12-2e2dd5d70f54"
      },
      "outputs": [
        {
          "output_type": "execute_result",
          "data": {
            "text/plain": [
              "                                                  9                        7   \\\n",
              "Feature         NumberOfTime60-89DaysPastDueNotWorse  NumberOfTimes90DaysLate   \n",
              "Max duplicates                                113994                   113544   \n",
              "Value                                            0.0                      0.0   \n",
              "\n",
              "                              0                                     3   \\\n",
              "Feature         SeriousDlqin2yrs  NumberOfTime30-59DaysPastDueNotWorse   \n",
              "Max duplicates            111912                                 99970   \n",
              "Value                        0.0                                   0.0   \n",
              "\n",
              "                                10                            8   \\\n",
              "Feature         NumberOfDependents  NumberRealEstateLoansOrLines   \n",
              "Max duplicates               65456                         43430   \n",
              "Value                          0.0                           0.0   \n",
              "\n",
              "                                             6   \\\n",
              "Feature         NumberOfOpenCreditLinesAndLoans   \n",
              "Max duplicates                            10810   \n",
              "Value                                       6.0   \n",
              "\n",
              "                                                  1     2              5   \\\n",
              "Feature         RevolvingUtilizationOfUnsecuredLines   age  MonthlyIncome   \n",
              "Max duplicates                                  7871  3217           2757   \n",
              "Value                                            0.0  49.0         5000.0   \n",
              "\n",
              "                       4   \n",
              "Feature         DebtRatio  \n",
              "Max duplicates       2491  \n",
              "Value                 0.0  "
            ],
            "text/html": [
              "\n",
              "  <div id=\"df-5e29a02a-072a-455d-a076-3c7261b6562d\">\n",
              "    <div class=\"colab-df-container\">\n",
              "      <div>\n",
              "<style scoped>\n",
              "    .dataframe tbody tr th:only-of-type {\n",
              "        vertical-align: middle;\n",
              "    }\n",
              "\n",
              "    .dataframe tbody tr th {\n",
              "        vertical-align: top;\n",
              "    }\n",
              "\n",
              "    .dataframe thead th {\n",
              "        text-align: right;\n",
              "    }\n",
              "</style>\n",
              "<table border=\"1\" class=\"dataframe\">\n",
              "  <thead>\n",
              "    <tr style=\"text-align: right;\">\n",
              "      <th></th>\n",
              "      <th>9</th>\n",
              "      <th>7</th>\n",
              "      <th>0</th>\n",
              "      <th>3</th>\n",
              "      <th>10</th>\n",
              "      <th>8</th>\n",
              "      <th>6</th>\n",
              "      <th>1</th>\n",
              "      <th>2</th>\n",
              "      <th>5</th>\n",
              "      <th>4</th>\n",
              "    </tr>\n",
              "  </thead>\n",
              "  <tbody>\n",
              "    <tr>\n",
              "      <th>Feature</th>\n",
              "      <td>NumberOfTime60-89DaysPastDueNotWorse</td>\n",
              "      <td>NumberOfTimes90DaysLate</td>\n",
              "      <td>SeriousDlqin2yrs</td>\n",
              "      <td>NumberOfTime30-59DaysPastDueNotWorse</td>\n",
              "      <td>NumberOfDependents</td>\n",
              "      <td>NumberRealEstateLoansOrLines</td>\n",
              "      <td>NumberOfOpenCreditLinesAndLoans</td>\n",
              "      <td>RevolvingUtilizationOfUnsecuredLines</td>\n",
              "      <td>age</td>\n",
              "      <td>MonthlyIncome</td>\n",
              "      <td>DebtRatio</td>\n",
              "    </tr>\n",
              "    <tr>\n",
              "      <th>Max duplicates</th>\n",
              "      <td>113994</td>\n",
              "      <td>113544</td>\n",
              "      <td>111912</td>\n",
              "      <td>99970</td>\n",
              "      <td>65456</td>\n",
              "      <td>43430</td>\n",
              "      <td>10810</td>\n",
              "      <td>7871</td>\n",
              "      <td>3217</td>\n",
              "      <td>2757</td>\n",
              "      <td>2491</td>\n",
              "    </tr>\n",
              "    <tr>\n",
              "      <th>Value</th>\n",
              "      <td>0.0</td>\n",
              "      <td>0.0</td>\n",
              "      <td>0.0</td>\n",
              "      <td>0.0</td>\n",
              "      <td>0.0</td>\n",
              "      <td>0.0</td>\n",
              "      <td>6.0</td>\n",
              "      <td>0.0</td>\n",
              "      <td>49.0</td>\n",
              "      <td>5000.0</td>\n",
              "      <td>0.0</td>\n",
              "    </tr>\n",
              "  </tbody>\n",
              "</table>\n",
              "</div>\n",
              "      <button class=\"colab-df-convert\" onclick=\"convertToInteractive('df-5e29a02a-072a-455d-a076-3c7261b6562d')\"\n",
              "              title=\"Convert this dataframe to an interactive table.\"\n",
              "              style=\"display:none;\">\n",
              "        \n",
              "  <svg xmlns=\"http://www.w3.org/2000/svg\" height=\"24px\"viewBox=\"0 0 24 24\"\n",
              "       width=\"24px\">\n",
              "    <path d=\"M0 0h24v24H0V0z\" fill=\"none\"/>\n",
              "    <path d=\"M18.56 5.44l.94 2.06.94-2.06 2.06-.94-2.06-.94-.94-2.06-.94 2.06-2.06.94zm-11 1L8.5 8.5l.94-2.06 2.06-.94-2.06-.94L8.5 2.5l-.94 2.06-2.06.94zm10 10l.94 2.06.94-2.06 2.06-.94-2.06-.94-.94-2.06-.94 2.06-2.06.94z\"/><path d=\"M17.41 7.96l-1.37-1.37c-.4-.4-.92-.59-1.43-.59-.52 0-1.04.2-1.43.59L10.3 9.45l-7.72 7.72c-.78.78-.78 2.05 0 2.83L4 21.41c.39.39.9.59 1.41.59.51 0 1.02-.2 1.41-.59l7.78-7.78 2.81-2.81c.8-.78.8-2.07 0-2.86zM5.41 20L4 18.59l7.72-7.72 1.47 1.35L5.41 20z\"/>\n",
              "  </svg>\n",
              "      </button>\n",
              "      \n",
              "  <style>\n",
              "    .colab-df-container {\n",
              "      display:flex;\n",
              "      flex-wrap:wrap;\n",
              "      gap: 12px;\n",
              "    }\n",
              "\n",
              "    .colab-df-convert {\n",
              "      background-color: #E8F0FE;\n",
              "      border: none;\n",
              "      border-radius: 50%;\n",
              "      cursor: pointer;\n",
              "      display: none;\n",
              "      fill: #1967D2;\n",
              "      height: 32px;\n",
              "      padding: 0 0 0 0;\n",
              "      width: 32px;\n",
              "    }\n",
              "\n",
              "    .colab-df-convert:hover {\n",
              "      background-color: #E2EBFA;\n",
              "      box-shadow: 0px 1px 2px rgba(60, 64, 67, 0.3), 0px 1px 3px 1px rgba(60, 64, 67, 0.15);\n",
              "      fill: #174EA6;\n",
              "    }\n",
              "\n",
              "    [theme=dark] .colab-df-convert {\n",
              "      background-color: #3B4455;\n",
              "      fill: #D2E3FC;\n",
              "    }\n",
              "\n",
              "    [theme=dark] .colab-df-convert:hover {\n",
              "      background-color: #434B5C;\n",
              "      box-shadow: 0px 1px 3px 1px rgba(0, 0, 0, 0.15);\n",
              "      filter: drop-shadow(0px 1px 2px rgba(0, 0, 0, 0.3));\n",
              "      fill: #FFFFFF;\n",
              "    }\n",
              "  </style>\n",
              "\n",
              "      <script>\n",
              "        const buttonEl =\n",
              "          document.querySelector('#df-5e29a02a-072a-455d-a076-3c7261b6562d button.colab-df-convert');\n",
              "        buttonEl.style.display =\n",
              "          google.colab.kernel.accessAllowed ? 'block' : 'none';\n",
              "\n",
              "        async function convertToInteractive(key) {\n",
              "          const element = document.querySelector('#df-5e29a02a-072a-455d-a076-3c7261b6562d');\n",
              "          const dataTable =\n",
              "            await google.colab.kernel.invokeFunction('convertToInteractive',\n",
              "                                                     [key], {});\n",
              "          if (!dataTable) return;\n",
              "\n",
              "          const docLinkHtml = 'Like what you see? Visit the ' +\n",
              "            '<a target=\"_blank\" href=https://colab.research.google.com/notebooks/data_table.ipynb>data table notebook</a>'\n",
              "            + ' to learn more about interactive tables.';\n",
              "          element.innerHTML = '';\n",
              "          dataTable['output_type'] = 'display_data';\n",
              "          await google.colab.output.renderOutput(dataTable, element);\n",
              "          const docLink = document.createElement('div');\n",
              "          docLink.innerHTML = docLinkHtml;\n",
              "          element.appendChild(docLink);\n",
              "        }\n",
              "      </script>\n",
              "    </div>\n",
              "  </div>\n",
              "  "
            ]
          },
          "metadata": {},
          "execution_count": 14
        }
      ],
      "source": [
        "features = train.columns.values[0:30]\n",
        "unique_max_train = []\n",
        "unique_max_test = []\n",
        "for feature in features:\n",
        "    values = train[feature].value_counts()\n",
        "    unique_max_train.append([feature, values.max(), values.idxmax()])\n",
        "\n",
        "np.transpose((pd.DataFrame(unique_max_train, columns=['Feature', 'Max duplicates', 'Value'])).\\\n",
        "            sort_values(by = 'Max duplicates', ascending=False).head(15))"
      ]
    },
    {
      "cell_type": "markdown",
      "metadata": {
        "id": "dVqwwvu2eRu7"
      },
      "source": [
        "### Value Counts Target - SeriousDlqin2yrs"
      ]
    },
    {
      "cell_type": "code",
      "execution_count": null,
      "metadata": {
        "_kg_hide-input": true,
        "id": "KMtpnMHpeRu7",
        "colab": {
          "base_uri": "https://localhost:8080/"
        },
        "outputId": "5f30b5c4-936f-4a48-b447-a47e96e47a38"
      },
      "outputs": [
        {
          "output_type": "execute_result",
          "data": {
            "text/plain": [
              "0    111912\n",
              "1      8357\n",
              "Name: SeriousDlqin2yrs, dtype: int64"
            ]
          },
          "metadata": {},
          "execution_count": 15
        }
      ],
      "source": [
        "train.SeriousDlqin2yrs.value_counts()"
      ]
    },
    {
      "cell_type": "markdown",
      "metadata": {
        "id": "xOuymY2DeRu7"
      },
      "source": [
        "### Feature Importance"
      ]
    },
    {
      "cell_type": "code",
      "execution_count": null,
      "metadata": {
        "_kg_hide-input": true,
        "id": "4yDxpUQyeRu7"
      },
      "outputs": [],
      "source": [
        "train_X = train.drop([\"SeriousDlqin2yrs\"], axis=1)\n",
        "train_y = np.log1p(train[\"SeriousDlqin2yrs\"].values)"
      ]
    },
    {
      "cell_type": "code",
      "execution_count": null,
      "metadata": {
        "_kg_hide-input": true,
        "id": "c0E5zr3YeRu7",
        "colab": {
          "base_uri": "https://localhost:8080/"
        },
        "outputId": "e872dcf7-45a9-4bd2-d8d8-8326f8dd741a"
      },
      "outputs": [
        {
          "output_type": "display_data",
          "data": {
            "text/plain": [
              "<Figure size 864x864 with 1 Axes>"
            ],
            "image/png": "[encoded data removed]"
          },
          "metadata": {
            "needs_background": "light"
          }
        }
      ],
      "source": [
        "from sklearn import ensemble\n",
        "model = ensemble.ExtraTreesRegressor(n_estimators=200, max_depth=20, max_features=0.5, n_jobs=-1, random_state=0)\n",
        "model.fit(train_X, train_y)\n",
        "\n",
        "## plotando as importâncias ##\n",
        "feat_names = train_X.columns.values\n",
        "importances = model.feature_importances_\n",
        "std = np.std([tree.feature_importances_ for tree in model.estimators_], axis=0)\n",
        "indices = np.argsort(importances)[::-1][:20]\n",
        "\n",
        "plt.figure(figsize=(12,12))\n",
        "plt.title(\"Feature importances\")\n",
        "plt.bar(range(len(indices)), importances[indices], color=\"r\", yerr=std[indices], align=\"center\")\n",
        "plt.xticks(range(len(indices)), feat_names[indices], rotation='vertical')\n",
        "plt.xlim([-1, len(indices)])\n",
        "plt.show()"
      ]
    },
    {
      "cell_type": "code",
      "execution_count": null,
      "metadata": {
        "_kg_hide-input": true,
        "id": "7EQguGGHeRu8"
      },
      "outputs": [],
      "source": [
        "def plot_new_feature_distribution(df1, df2, label1, label2, features, n):\n",
        "    i = 0\n",
        "    sns.set_style('whitegrid')\n",
        "    plt.figure()\n",
        "    fig, ax = plt.subplots(2,n,figsize=(18,8))\n",
        "\n",
        "    for feature in features:\n",
        "        i += 1\n",
        "        plt.subplot(2,n,i)\n",
        "        sns.kdeplot(df1[feature], bw=0.5,label=label1)\n",
        "        sns.kdeplot(df2[feature], bw=0.5,label=label2)\n",
        "        plt.xlabel(feature, fontsize=11)\n",
        "        locs, labels = plt.xticks()\n",
        "        plt.tick_params(axis='x', which='major', labelsize=8)\n",
        "        plt.tick_params(axis='y', which='major', labelsize=8)\n",
        "    plt.show();"
      ]
    },
    {
      "cell_type": "markdown",
      "metadata": {
        "id": "y4M1w4KYeRu8"
      },
      "source": [
        "## Baseline"
      ]
    },
    {
      "cell_type": "code",
      "execution_count": null,
      "metadata": {
        "id": "-2wnHbA6eRu8"
      },
      "outputs": [],
      "source": [
        "def plot_roc(y_test,prob):\n",
        "    fpr, tpr, thresholds = roc_curve(y_test, probs)\n",
        "    # plot no skill\n",
        "    plt.plot([0, 1], [0, 1], linestyle='--')\n",
        "    # plot the roc curve for the model\n",
        "    plt.plot(fpr, tpr, marker='.')\n",
        "    plt.title(\"ROC curve\")\n",
        "    plt.xlabel('false positive rate')\n",
        "    plt.ylabel('true positive rate')\n",
        "    # show the plot\n",
        "    plt.show()"
      ]
    },
    {
      "cell_type": "code",
      "execution_count": null,
      "metadata": {
        "id": "5g8ELoUaeRu8",
        "colab": {
          "base_uri": "https://localhost:8080/"
        },
        "outputId": "96c8665d-3800-46dd-e8de-454fa4b41ea2"
      },
      "outputs": [
        {
          "output_type": "stream",
          "name": "stdout",
          "text": [
            "roc  0.6662572612580925\n"
          ]
        }
      ],
      "source": [
        "def logistic(X,y):\n",
        "    y_train=train['SeriousDlqin2yrs'].astype('uint8')\n",
        "    X_train,X_test,y_train,y_test=train_test_split(train.drop('SeriousDlqin2yrs',axis=1),y_train,test_size=.2,random_state=2020)\n",
        "    lr=LogisticRegression()\n",
        "    lr.fit(X_train,y_train)\n",
        "    prob=lr.predict_proba(X_test)\n",
        "\n",
        "    roc=roc_auc_score(y_test, lr.predict_proba(X_test)[:,1])\n",
        "    print('roc ',roc)\n",
        "\n",
        "    return (prob[:,1],y_test)\n",
        "y_train=train['SeriousDlqin2yrs'].astype('uint8')\n",
        "probs,y_test=logistic(train.drop('SeriousDlqin2yrs',axis=1),y_train)"
      ]
    },
    {
      "cell_type": "code",
      "execution_count": null,
      "metadata": {
        "id": "14o7_20ZeRu8",
        "colab": {
          "base_uri": "https://localhost:8080/",
          "height": 295
        },
        "outputId": "ac45d6d8-5462-4c99-876b-266d3f95acc3"
      },
      "outputs": [
        {
          "output_type": "display_data",
          "data": {
            "text/plain": [
              "<Figure size 432x288 with 1 Axes>"
            ],
            "image/png": "[encoded data removed]"
          },
          "metadata": {
            "needs_background": "light"
          }
        }
      ],
      "source": [
        "plot_roc(y_test,probs)"
      ]
    },
    {
      "cell_type": "code",
      "execution_count": null,
      "metadata": {
        "id": "0iTU9v1FeRu9"
      },
      "outputs": [],
      "source": [
        "train_x, val_x, train_y, val_y=train_test_split(train.drop('SeriousDlqin2yrs',axis=1),y_train,test_size=.2,random_state=2020)\n",
        "\n",
        "clf = LogisticRegression(solver=\"lbfgs\").fit(train_x, train_y)\n",
        "pred_y = clf.predict(val_x)"
      ]
    },
    {
      "cell_type": "code",
      "execution_count": null,
      "metadata": {
        "id": "lDTKVgZKeRu9",
        "colab": {
          "base_uri": "https://localhost:8080/"
        },
        "outputId": "fa86e1cf-71c8-4db0-a23f-ea5d98fc87ac"
      },
      "outputs": [
        {
          "output_type": "execute_result",
          "data": {
            "text/plain": [
              "0.5041934495861404"
            ]
          },
          "metadata": {},
          "execution_count": 23
        }
      ],
      "source": [
        "rocrl=roc_auc_score(val_y, pred_y)\n",
        "rocrl"
      ]
    },
    {
      "cell_type": "code",
      "execution_count": null,
      "metadata": {
        "id": "v3z7kgG2eRu9",
        "colab": {
          "base_uri": "https://localhost:8080/",
          "height": 295
        },
        "outputId": "4d9b6968-aecf-4278-fb37-567070eb3fd9"
      },
      "outputs": [
        {
          "output_type": "display_data",
          "data": {
            "text/plain": [
              "<Figure size 432x288 with 1 Axes>"
            ],
            "image/png": "[encoded data removed]"
          },
          "metadata": {
            "needs_background": "light"
          }
        }
      ],
      "source": [
        "plot_roc(val_y, pred_y)"
      ]
    },
    {
      "cell_type": "code",
      "execution_count": null,
      "metadata": {
        "id": "TFQS8TobeRu9",
        "colab": {
          "base_uri": "https://localhost:8080/"
        },
        "outputId": "65b65fce-3374-405b-e04b-5e9f53394665"
      },
      "outputs": [
        {
          "output_type": "stream",
          "name": "stdout",
          "text": [
            "CPU times: user 50 s, sys: 247 ms, total: 50.3 s\n",
            "Wall time: 51.1 s\n"
          ]
        }
      ],
      "source": [
        "%%time\n",
        "model = RandomForestClassifier(n_estimators=220).fit(train_x,train_y)\n",
        "predictionforest = model.predict(val_x)"
      ]
    },
    {
      "cell_type": "code",
      "execution_count": null,
      "metadata": {
        "id": "qRp2gOX8eRu9",
        "colab": {
          "base_uri": "https://localhost:8080/"
        },
        "outputId": "d0d49291-7365-4d45-df10-afb9b5766f38"
      },
      "outputs": [
        {
          "output_type": "stream",
          "name": "stdout",
          "text": [
            "roc  0.5862107442170844\n",
            "CPU times: user 9.15 ms, sys: 9 µs, total: 9.16 ms\n",
            "Wall time: 9.44 ms\n"
          ]
        }
      ],
      "source": [
        "%%time\n",
        "rocrf=roc_auc_score(val_y, predictionforest)\n",
        "print('roc ',rocrf)"
      ]
    },
    {
      "cell_type": "code",
      "execution_count": null,
      "metadata": {
        "id": "OVH0CzUBeRu-",
        "colab": {
          "base_uri": "https://localhost:8080/",
          "height": 295
        },
        "outputId": "0826efb6-a597-4076-fef7-99b227f8906f"
      },
      "outputs": [
        {
          "output_type": "display_data",
          "data": {
            "text/plain": [
              "<Figure size 432x288 with 1 Axes>"
            ],
            "image/png": "[encoded data removed]"
          },
          "metadata": {
            "needs_background": "light"
          }
        }
      ],
      "source": [
        "plot_roc(val_y, predictionforest)"
      ]
    },
    {
      "cell_type": "code",
      "execution_count": null,
      "metadata": {
        "id": "6fhs5sSfeRu-"
      },
      "outputs": [],
      "source": [
        "xgb_cfl = xgb.XGBClassifier(n_jobs = -1,\n",
        "                            n_estimators = 220)\n",
        "\n",
        "xgb_cfl.fit(train_x, train_y)\n",
        "y_scorexgb = xgb_cfl.predict_proba(val_x)[:,1]"
      ]
    },
    {
      "cell_type": "code",
      "execution_count": null,
      "metadata": {
        "id": "ROjVLr9TeRu-",
        "colab": {
          "base_uri": "https://localhost:8080/"
        },
        "outputId": "f64249a9-fd61-41a2-9d29-38f273c5a20b"
      },
      "outputs": [
        {
          "output_type": "stream",
          "name": "stdout",
          "text": [
            "roc  0.8649623562309385\n"
          ]
        }
      ],
      "source": [
        "rocxgb=roc_auc_score(val_y, y_scorexgb)\n",
        "print('roc ',rocxgb)"
      ]
    },
    {
      "cell_type": "code",
      "execution_count": null,
      "metadata": {
        "id": "dH9EtTTXeRu-",
        "colab": {
          "base_uri": "https://localhost:8080/",
          "height": 295
        },
        "outputId": "e4adf50a-e008-4f9a-8b9e-80cb0118e0dd"
      },
      "outputs": [
        {
          "output_type": "display_data",
          "data": {
            "text/plain": [
              "<Figure size 432x288 with 1 Axes>"
            ],
            "image/png": "[encoded data removed]"
          },
          "metadata": {
            "needs_background": "light"
          }
        }
      ],
      "source": [
        "plot_roc(val_y, y_scorexgb)"
      ]
    },
    {
      "cell_type": "markdown",
      "metadata": {
        "id": "UsMAZI2MeRu-"
      },
      "source": [
        "## Grid Search CV"
      ]
    },
    {
      "cell_type": "markdown",
      "metadata": {
        "id": "dQlgXjAxeRu-"
      },
      "source": [
        "###### XGB Classifier"
      ]
    },
    {
      "cell_type": "code",
      "execution_count": null,
      "metadata": {
        "id": "oMTzXWNueRu_"
      },
      "outputs": [],
      "source": [
        "xgb_cfl = xgb.XGBClassifier(n_jobs = -1)\n",
        "xgb_cfl.fit(train_x, train_y)\n",
        "y_pred = xgb_cfl.predict(val_x)\n",
        "y_score = xgb_cfl.predict_proba(val_x)[:,1]"
      ]
    },
    {
      "cell_type": "code",
      "execution_count": null,
      "metadata": {
        "id": "mNXjO-6aeRu_",
        "colab": {
          "base_uri": "https://localhost:8080/"
        },
        "outputId": "157add1b-bf6a-4fe8-9fe1-9bf093e42e1b"
      },
      "outputs": [
        {
          "output_type": "stream",
          "name": "stdout",
          "text": [
            "Fitting 5 folds for each of 3 candidates, totalling 15 fits\n",
            "[CV] END ....................................n_estimators=50; total time=   2.0s\n",
            "[CV] END ....................................n_estimators=50; total time=   2.1s\n",
            "[CV] END ....................................n_estimators=50; total time=   2.0s\n",
            "[CV] END ....................................n_estimators=50; total time=   2.0s\n",
            "[CV] END ....................................n_estimators=50; total time=   2.0s\n",
            "[CV] END ...................................n_estimators=100; total time=   4.0s\n",
            "[CV] END ...................................n_estimators=100; total time=   3.9s\n",
            "[CV] END ...................................n_estimators=100; total time=   3.9s\n",
            "[CV] END ...................................n_estimators=100; total time=   3.9s\n",
            "[CV] END ...................................n_estimators=100; total time=   3.8s\n",
            "[CV] END ...................................n_estimators=200; total time=   7.5s\n",
            "[CV] END ...................................n_estimators=200; total time=   8.8s\n",
            "[CV] END ...................................n_estimators=200; total time=   7.5s\n",
            "[CV] END ...................................n_estimators=200; total time=   7.6s\n",
            "[CV] END ...................................n_estimators=200; total time=   7.6s\n",
            "The best parameters:  {'n_estimators': 200}\n",
            "CPU times: user 2min 30s, sys: 298 ms, total: 2min 31s\n",
            "Wall time: 1min 18s\n"
          ]
        }
      ],
      "source": [
        "%%time\n",
        "param_grid = {\n",
        "            'n_estimators': [50, 100, 200]\n",
        "              }\n",
        "\n",
        "CV_xgb_cfl = GridSearchCV(estimator = xgb_cfl, param_grid = param_grid, scoring ='roc_auc', verbose = 2)\n",
        "CV_xgb_cfl.fit(train_x, train_y)\n",
        "\n",
        "best_parameters = CV_xgb_cfl.best_params_\n",
        "print(\"The best parameters: \", best_parameters)"
      ]
    },
    {
      "cell_type": "code",
      "execution_count": null,
      "metadata": {
        "id": "4caIesVteRu_"
      },
      "outputs": [],
      "source": [
        "xgb_cfl2 = xgb.XGBClassifier(n_jobs = -1,\n",
        "                            n_estimators = 120)\n",
        "\n",
        "xgb_cfl2.fit(train_x, train_y)\n",
        "y_score2 = xgb_cfl2.predict_proba(val_x)[:,1]"
      ]
    },
    {
      "cell_type": "code",
      "execution_count": null,
      "metadata": {
        "id": "Diu9RphueRu_",
        "colab": {
          "base_uri": "https://localhost:8080/"
        },
        "outputId": "c4d9231b-7f3b-4fc8-de69-2095af083237"
      },
      "outputs": [
        {
          "output_type": "stream",
          "name": "stdout",
          "text": [
            "roc  0.8650872730959465\n"
          ]
        }
      ],
      "source": [
        "rocxgb=roc_auc_score(val_y, y_score2)\n",
        "print('roc ',rocxgb)"
      ]
    },
    {
      "cell_type": "code",
      "execution_count": null,
      "metadata": {
        "id": "gYy9KKRReRu_",
        "colab": {
          "base_uri": "https://localhost:8080/"
        },
        "outputId": "8f483e23-0ac1-4994-a7da-1b67848ae041"
      },
      "outputs": [
        {
          "output_type": "display_data",
          "data": {
            "text/plain": [
              "<Figure size 432x288 with 1 Axes>"
            ],
            "image/png": "[encoded data removed]"
          },
          "metadata": {
            "needs_background": "light"
          }
        }
      ],
      "source": [
        "plot_roc(val_y, y_score2)"
      ]
    },
    {
      "cell_type": "markdown",
      "metadata": {
        "id": "Byl74xZJeRu_"
      },
      "source": [
        "#### Score Analysis"
      ]
    },
    {
      "cell_type": "code",
      "execution_count": null,
      "metadata": {
        "id": "h4yXlE0ueRu_",
        "colab": {
          "base_uri": "https://localhost:8080/"
        },
        "outputId": "36cb5277-4e31-4de1-9c8b-7b15b14b4715"
      },
      "outputs": [
        {
          "output_type": "display_data",
          "data": {
            "text/plain": [
              "<Figure size 1080x288 with 3 Axes>"
            ],
            "image/png": "[encoded data removed]"
          },
          "metadata": {
            "needs_background": "light"
          }
        },
        {
          "output_type": "stream",
          "name": "stdout",
          "text": [
            "Precision: 0.59 | Recall: 0.19 | F1 Score: 0.28 | \n"
          ]
        }
      ],
      "source": [
        "F1 = evalBinaryClassifier(xgb_cfl2, val_x, val_y)"
      ]
    },
    {
      "cell_type": "markdown",
      "metadata": {
        "id": "FMLqdTDCeRu_"
      },
      "source": [
        "Probability Analysis"
      ]
    },
    {
      "cell_type": "code",
      "execution_count": null,
      "metadata": {
        "_kg_hide-input": true,
        "id": "oJwzim7AeRu_",
        "colab": {
          "base_uri": "https://localhost:8080/"
        },
        "outputId": "4d75f0cf-07b2-4af8-93bf-5d1f6c086b06"
      },
      "outputs": [
        {
          "output_type": "stream",
          "name": "stdout",
          "text": [
            "count    1681.000000\n",
            "mean        0.267269\n",
            "std         0.217003\n",
            "min         0.007160\n",
            "25%         0.080286\n",
            "50%         0.201778\n",
            "75%         0.420265\n",
            "max         0.846330\n",
            "Name: Probability, dtype: float64\n"
          ]
        },
        {
          "output_type": "execute_result",
          "data": {
            "text/plain": [
              "<matplotlib.axes._subplots.AxesSubplot at 0x7febef9ba5d0>"
            ]
          },
          "metadata": {},
          "execution_count": 37
        },
        {
          "output_type": "display_data",
          "data": {
            "text/plain": [
              "<Figure size 432x288 with 1 Axes>"
            ],
            "image/png": "[encoded data removed]"
          },
          "metadata": {
            "needs_background": "light"
          }
        }
      ],
      "source": [
        "## Target 1\n",
        "target1 = pd.DataFrame({\"Target\": val_y, 'Probability': y_score2 })\n",
        "print(target1.loc[target1.Target == 1, 'Probability'].describe())\n",
        "target1.loc[target1.Target == 1, 'Probability'].hist()\n"
      ]
    },
    {
      "cell_type": "markdown",
      "metadata": {
        "id": "zyM5iRqleRvA"
      },
      "source": [
        "## Submission"
      ]
    },
    {
      "cell_type": "code",
      "execution_count": null,
      "metadata": {
        "id": "ZpQrMi_ceRvA"
      },
      "outputs": [],
      "source": [
        "test=test.drop([\"SeriousDlqin2yrs\",\"Unnamed: 0\"],1)"
      ]
    },
    {
      "cell_type": "code",
      "execution_count": null,
      "metadata": {
        "id": "IQ3LNlw0eRvA",
        "colab": {
          "base_uri": "https://localhost:8080/",
          "height": 206
        },
        "outputId": "cd4b0d9b-8ecd-482e-fffc-9d66f4f1e42c"
      },
      "outputs": [
        {
          "output_type": "execute_result",
          "data": {
            "text/plain": [
              "   Id  Probability\n",
              "0   1     0.070422\n",
              "1   2     0.047023\n",
              "2   3     0.017491\n",
              "3   4     0.078876\n",
              "4   5     0.096590"
            ],
            "text/html": [
              "\n",
              "  <div id=\"df-9473c5e3-e8a4-45e8-8579-1872197aeb08\">\n",
              "    <div class=\"colab-df-container\">\n",
              "      <div>\n",
              "<style scoped>\n",
              "    .dataframe tbody tr th:only-of-type {\n",
              "        vertical-align: middle;\n",
              "    }\n",
              "\n",
              "    .dataframe tbody tr th {\n",
              "        vertical-align: top;\n",
              "    }\n",
              "\n",
              "    .dataframe thead th {\n",
              "        text-align: right;\n",
              "    }\n",
              "</style>\n",
              "<table border=\"1\" class=\"dataframe\">\n",
              "  <thead>\n",
              "    <tr style=\"text-align: right;\">\n",
              "      <th></th>\n",
              "      <th>Id</th>\n",
              "      <th>Probability</th>\n",
              "    </tr>\n",
              "  </thead>\n",
              "  <tbody>\n",
              "    <tr>\n",
              "      <th>0</th>\n",
              "      <td>1</td>\n",
              "      <td>0.070422</td>\n",
              "    </tr>\n",
              "    <tr>\n",
              "      <th>1</th>\n",
              "      <td>2</td>\n",
              "      <td>0.047023</td>\n",
              "    </tr>\n",
              "    <tr>\n",
              "      <th>2</th>\n",
              "      <td>3</td>\n",
              "      <td>0.017491</td>\n",
              "    </tr>\n",
              "    <tr>\n",
              "      <th>3</th>\n",
              "      <td>4</td>\n",
              "      <td>0.078876</td>\n",
              "    </tr>\n",
              "    <tr>\n",
              "      <th>4</th>\n",
              "      <td>5</td>\n",
              "      <td>0.096590</td>\n",
              "    </tr>\n",
              "  </tbody>\n",
              "</table>\n",
              "</div>\n",
              "      <button class=\"colab-df-convert\" onclick=\"convertToInteractive('df-9473c5e3-e8a4-45e8-8579-1872197aeb08')\"\n",
              "              title=\"Convert this dataframe to an interactive table.\"\n",
              "              style=\"display:none;\">\n",
              "        \n",
              "  <svg xmlns=\"http://www.w3.org/2000/svg\" height=\"24px\"viewBox=\"0 0 24 24\"\n",
              "       width=\"24px\">\n",
              "    <path d=\"M0 0h24v24H0V0z\" fill=\"none\"/>\n",
              "    <path d=\"M18.56 5.44l.94 2.06.94-2.06 2.06-.94-2.06-.94-.94-2.06-.94 2.06-2.06.94zm-11 1L8.5 8.5l.94-2.06 2.06-.94-2.06-.94L8.5 2.5l-.94 2.06-2.06.94zm10 10l.94 2.06.94-2.06 2.06-.94-2.06-.94-.94-2.06-.94 2.06-2.06.94z\"/><path d=\"M17.41 7.96l-1.37-1.37c-.4-.4-.92-.59-1.43-.59-.52 0-1.04.2-1.43.59L10.3 9.45l-7.72 7.72c-.78.78-.78 2.05 0 2.83L4 21.41c.39.39.9.59 1.41.59.51 0 1.02-.2 1.41-.59l7.78-7.78 2.81-2.81c.8-.78.8-2.07 0-2.86zM5.41 20L4 18.59l7.72-7.72 1.47 1.35L5.41 20z\"/>\n",
              "  </svg>\n",
              "      </button>\n",
              "      \n",
              "  <style>\n",
              "    .colab-df-container {\n",
              "      display:flex;\n",
              "      flex-wrap:wrap;\n",
              "      gap: 12px;\n",
              "    }\n",
              "\n",
              "    .colab-df-convert {\n",
              "      background-color: #E8F0FE;\n",
              "      border: none;\n",
              "      border-radius: 50%;\n",
              "      cursor: pointer;\n",
              "      display: none;\n",
              "      fill: #1967D2;\n",
              "      height: 32px;\n",
              "      padding: 0 0 0 0;\n",
              "      width: 32px;\n",
              "    }\n",
              "\n",
              "    .colab-df-convert:hover {\n",
              "      background-color: #E2EBFA;\n",
              "      box-shadow: 0px 1px 2px rgba(60, 64, 67, 0.3), 0px 1px 3px 1px rgba(60, 64, 67, 0.15);\n",
              "      fill: #174EA6;\n",
              "    }\n",
              "\n",
              "    [theme=dark] .colab-df-convert {\n",
              "      background-color: #3B4455;\n",
              "      fill: #D2E3FC;\n",
              "    }\n",
              "\n",
              "    [theme=dark] .colab-df-convert:hover {\n",
              "      background-color: #434B5C;\n",
              "      box-shadow: 0px 1px 3px 1px rgba(0, 0, 0, 0.15);\n",
              "      filter: drop-shadow(0px 1px 2px rgba(0, 0, 0, 0.3));\n",
              "      fill: #FFFFFF;\n",
              "    }\n",
              "  </style>\n",
              "\n",
              "      <script>\n",
              "        const buttonEl =\n",
              "          document.querySelector('#df-9473c5e3-e8a4-45e8-8579-1872197aeb08 button.colab-df-convert');\n",
              "        buttonEl.style.display =\n",
              "          google.colab.kernel.accessAllowed ? 'block' : 'none';\n",
              "\n",
              "        async function convertToInteractive(key) {\n",
              "          const element = document.querySelector('#df-9473c5e3-e8a4-45e8-8579-1872197aeb08');\n",
              "          const dataTable =\n",
              "            await google.colab.kernel.invokeFunction('convertToInteractive',\n",
              "                                                     [key], {});\n",
              "          if (!dataTable) return;\n",
              "\n",
              "          const docLinkHtml = 'Like what you see? Visit the ' +\n",
              "            '<a target=\"_blank\" href=https://colab.research.google.com/notebooks/data_table.ipynb>data table notebook</a>'\n",
              "            + ' to learn more about interactive tables.';\n",
              "          element.innerHTML = '';\n",
              "          dataTable['output_type'] = 'display_data';\n",
              "          await google.colab.output.renderOutput(dataTable, element);\n",
              "          const docLink = document.createElement('div');\n",
              "          docLink.innerHTML = docLinkHtml;\n",
              "          element.appendChild(docLink);\n",
              "        }\n",
              "      </script>\n",
              "    </div>\n",
              "  </div>\n",
              "  "
            ]
          },
          "metadata": {},
          "execution_count": 39
        }
      ],
      "source": [
        "res = xgb_cfl2.predict_proba(test)[:,1]\n",
        "sampleEntry[\"Probability\"]=res\n",
        "sampleEntry.head()"
      ]
    },
    {
      "cell_type": "code",
      "execution_count": null,
      "metadata": {
        "id": "V-qxclwMeRvA"
      },
      "outputs": [],
      "source": [
        "sampleEntry.to_csv(\"submission.csv\",index=False)"
      ]
    },
    {
      "cell_type": "markdown",
      "source": [
        "# Outcomes/Model Analysis\n",
        "\n",
        "We note that the model that the team ultimately ended up using for their project is the XGBClassifer, which is denoted within the `xgb_cfl2` variable. We choose this model to analyze."
      ],
      "metadata": {
        "id": "hJ8N5M8SXqop"
      }
    },
    {
      "cell_type": "markdown",
      "source": [
        "# AIF 360"
      ],
      "metadata": {
        "id": "p5WuG2iEXwrb"
      }
    },
    {
      "cell_type": "code",
      "source": [
        "!pip install numba==0.48\n",
        "!pip install aif360==0.2.2"
      ],
      "metadata": {
        "id": "wmjHmbYjX5O3",
        "colab": {
          "base_uri": "https://localhost:8080/"
        },
        "outputId": "bc72ccbe-b9e4-4c66-b56f-c0d569fbc422"
      },
      "execution_count": null,
      "outputs": [
        {
          "output_type": "stream",
          "name": "stdout",
          "text": [
            "Collecting numba==0.48\n",
            "  Downloading numba-0.48.0-1-cp37-cp37m-manylinux2014_x86_64.whl (3.5 MB)\n",
            "\u001b[K     |████████████████████████████████| 3.5 MB 4.9 MB/s \n",
            "\u001b[?25hRequirement already satisfied: numpy>=1.15 in /usr/local/lib/python3.7/dist-packages (from numba==0.48) (1.21.6)\n",
            "Collecting llvmlite<0.32.0,>=0.31.0dev0\n",
            "  Downloading llvmlite-0.31.0-cp37-cp37m-manylinux1_x86_64.whl (20.2 MB)\n",
            "\u001b[K     |████████████████████████████████| 20.2 MB 5.8 MB/s \n",
            "\u001b[?25hRequirement already satisfied: setuptools in /usr/local/lib/python3.7/dist-packages (from numba==0.48) (57.4.0)\n",
            "Installing collected packages: llvmlite, numba\n",
            "  Attempting uninstall: llvmlite\n",
            "    Found existing installation: llvmlite 0.34.0\n",
            "    Uninstalling llvmlite-0.34.0:\n",
            "      Successfully uninstalled llvmlite-0.34.0\n",
            "  Attempting uninstall: numba\n",
            "    Found existing installation: numba 0.51.2\n",
            "    Uninstalling numba-0.51.2:\n",
            "      Successfully uninstalled numba-0.51.2\n",
            "Successfully installed llvmlite-0.31.0 numba-0.48.0\n",
            "Collecting aif360==0.2.2\n",
            "  Downloading aif360-0.2.2-py2.py3-none-any.whl (56.4 MB)\n",
            "\u001b[K     |████████████████████████████████| 56.4 MB 1.3 MB/s \n",
            "\u001b[?25hRequirement already satisfied: numpy>=1.16 in /usr/local/lib/python3.7/dist-packages (from aif360==0.2.2) (1.21.6)\n",
            "Requirement already satisfied: pandas>=0.23.3 in /usr/local/lib/python3.7/dist-packages (from aif360==0.2.2) (1.3.5)\n",
            "Requirement already satisfied: scikit-learn in /usr/local/lib/python3.7/dist-packages (from aif360==0.2.2) (1.0.2)\n",
            "Requirement already satisfied: scipy in /usr/local/lib/python3.7/dist-packages (from aif360==0.2.2) (1.4.1)\n",
            "Requirement already satisfied: pytz>=2017.3 in /usr/local/lib/python3.7/dist-packages (from pandas>=0.23.3->aif360==0.2.2) (2022.1)\n",
            "Requirement already satisfied: python-dateutil>=2.7.3 in /usr/local/lib/python3.7/dist-packages (from pandas>=0.23.3->aif360==0.2.2) (2.8.2)\n",
            "Requirement already satisfied: six>=1.5 in /usr/local/lib/python3.7/dist-packages (from python-dateutil>=2.7.3->pandas>=0.23.3->aif360==0.2.2) (1.15.0)\n",
            "Requirement already satisfied: joblib>=0.11 in /usr/local/lib/python3.7/dist-packages (from scikit-learn->aif360==0.2.2) (1.1.0)\n",
            "Requirement already satisfied: threadpoolctl>=2.0.0 in /usr/local/lib/python3.7/dist-packages (from scikit-learn->aif360==0.2.2) (3.1.0)\n",
            "Installing collected packages: aif360\n",
            "Successfully installed aif360-0.2.2\n"
          ]
        }
      ]
    },
    {
      "cell_type": "code",
      "source": [
        "import matplotlib.pyplot as plt\n",
        "%matplotlib inline\n",
        "\n",
        "import random\n",
        "random.seed(6)\n",
        "\n",
        "import sys\n",
        "import warnings\n",
        "\n",
        "import numpy as np\n",
        "import pandas as pd\n",
        "\n",
        "from sklearn.linear_model import LogisticRegression\n",
        "from sklearn.metrics import accuracy_score, roc_auc_score\n",
        "\n",
        "from aif360.algorithms.preprocessing import Reweighing\n",
        "from aif360.datasets import GermanDataset, StandardDataset\n",
        "from aif360.metrics import BinaryLabelDatasetMetric, ClassificationMetric\n",
        "from aif360.algorithms.postprocessing import EqOddsPostprocessing\n"
      ],
      "metadata": {
        "id": "PIkcYIdDxXjT"
      },
      "execution_count": null,
      "outputs": []
    },
    {
      "cell_type": "code",
      "source": [
        "dataset_orig = StandardDataset(sampleEntry, label_name=['age'], favorable_classes = [], protected_attribute_names=['age'],\n",
        "                             privileged_classes=lambda x: x >= 25)\n",
        "\n",
        "privileged_groups = [{'age': 1}]\n",
        "unprivileged_groups = [{'age': 0}]"
      ],
      "metadata": {
        "colab": {
          "base_uri": "https://localhost:8080/",
          "height": 374
        },
        "id": "TsvQ8w0vxaLl",
        "outputId": "ff327547-172c-48d7-b0cd-d0f125c80e58"
      },
      "execution_count": null,
      "outputs": [
        {
          "output_type": "error",
          "ename": "TypeError",
          "evalue": "ignored",
          "traceback": [
            "\u001b[0;31m---------------------------------------------------------------------------\u001b[0m",
            "\u001b[0;31mTypeError\u001b[0m                                 Traceback (most recent call last)",
            "\u001b[0;32m<ipython-input-43-b6a6bed08704>\u001b[0m in \u001b[0;36m<module>\u001b[0;34m()\u001b[0m\n\u001b[1;32m      1\u001b[0m dataset_orig = StandardDataset(sampleEntry, label_name=['age'], favorable_classes = [], protected_attribute_names=['age'],           \n\u001b[0;32m----> 2\u001b[0;31m                              privileged_classes=lambda x: x >= 25)     \n\u001b[0m\u001b[1;32m      3\u001b[0m \u001b[0;34m\u001b[0m\u001b[0m\n\u001b[1;32m      4\u001b[0m \u001b[0mprivileged_groups\u001b[0m \u001b[0;34m=\u001b[0m \u001b[0;34m[\u001b[0m\u001b[0;34m{\u001b[0m\u001b[0;34m'age'\u001b[0m\u001b[0;34m:\u001b[0m \u001b[0;36m1\u001b[0m\u001b[0;34m}\u001b[0m\u001b[0;34m]\u001b[0m\u001b[0;34m\u001b[0m\u001b[0;34m\u001b[0m\u001b[0m\n\u001b[1;32m      5\u001b[0m \u001b[0munprivileged_groups\u001b[0m \u001b[0;34m=\u001b[0m \u001b[0;34m[\u001b[0m\u001b[0;34m{\u001b[0m\u001b[0;34m'age'\u001b[0m\u001b[0;34m:\u001b[0m \u001b[0;36m0\u001b[0m\u001b[0;34m}\u001b[0m\u001b[0;34m]\u001b[0m\u001b[0;34m\u001b[0m\u001b[0;34m\u001b[0m\u001b[0m\n",
            "\u001b[0;32m/usr/local/lib/python3.7/dist-packages/aif360/datasets/standard_dataset.py\u001b[0m in \u001b[0;36m__init__\u001b[0;34m(self, df, label_name, favorable_classes, protected_attribute_names, privileged_classes, instance_weights_name, scores_name, categorical_features, features_to_keep, features_to_drop, na_values, custom_preprocessing, metadata)\u001b[0m\n\u001b[1;32m     88\u001b[0m         \u001b[0mfeatures_to_keep\u001b[0m \u001b[0;34m=\u001b[0m \u001b[0mfeatures_to_keep\u001b[0m \u001b[0;32mor\u001b[0m \u001b[0mdf\u001b[0m\u001b[0;34m.\u001b[0m\u001b[0mcolumns\u001b[0m\u001b[0;34m.\u001b[0m\u001b[0mtolist\u001b[0m\u001b[0;34m(\u001b[0m\u001b[0;34m)\u001b[0m\u001b[0;34m\u001b[0m\u001b[0;34m\u001b[0m\u001b[0m\n\u001b[1;32m     89\u001b[0m         keep = (set(features_to_keep) | set(protected_attribute_names)\n\u001b[0;32m---> 90\u001b[0;31m               | set(categorical_features) | set([label_name]))\n\u001b[0m\u001b[1;32m     91\u001b[0m         \u001b[0;32mif\u001b[0m \u001b[0minstance_weights_name\u001b[0m\u001b[0;34m:\u001b[0m\u001b[0;34m\u001b[0m\u001b[0;34m\u001b[0m\u001b[0m\n\u001b[1;32m     92\u001b[0m             \u001b[0mkeep\u001b[0m \u001b[0;34m|=\u001b[0m \u001b[0mset\u001b[0m\u001b[0;34m(\u001b[0m\u001b[0;34m[\u001b[0m\u001b[0minstance_weights_name\u001b[0m\u001b[0;34m]\u001b[0m\u001b[0;34m)\u001b[0m\u001b[0;34m\u001b[0m\u001b[0;34m\u001b[0m\u001b[0m\n",
            "\u001b[0;31mTypeError\u001b[0m: unhashable type: 'list'"
          ]
        }
      ]
    },
    {
      "cell_type": "code",
      "source": [
        "train_orig, test_orig = dataset_orig.split([0.8], shuffle=True, seed=10)\n",
        "\n",
        "train_orig_df, _ = train_orig.convert_to_dataframe()\n",
        "test_orig_df, _ = test_orig.convert_to_dataframe()\n",
        "\n",
        "print(\"Train set: \", train_orig_df.shape)\n",
        "print(\"Test set: \", test_orig_df.shape)"
      ],
      "metadata": {
        "id": "NuNFI5d_yhf0"
      },
      "execution_count": null,
      "outputs": []
    },
    {
      "cell_type": "code",
      "source": [
        "train_orig_metrics = BinaryLabelDatasetMetric (train_orig,\n",
        "                                               unprivileged_groups = unprivileged_groups,\n",
        "                                               privileged_groups = privileged_groups)\n",
        "\n",
        "print(\"Mean difference = %f\" % train_orig_metrics.mean_difference())\n",
        "print(\"Disparate impact = %f\" % train_orig_metrics.disparate_impact())"
      ],
      "metadata": {
        "id": "Gh7xq37tybmJ"
      },
      "execution_count": null,
      "outputs": []
    },
    {
      "cell_type": "code",
      "source": [
        "x_train = train_orig_df.drop(\"credit\", axis=1)\n",
        "y_train = train_orig_df.credit.replace({2:0})\n",
        "\n",
        "x_test = test_orig_df.drop(\"credit\", axis=1)\n",
        "y_test = test_orig_df.credit.replace({2:0})\n",
        "\n",
        "print(\"Outcomes: \")\n",
        "y_train.value_counts()"
      ],
      "metadata": {
        "id": "YM5Kkq4X0UAM"
      },
      "execution_count": null,
      "outputs": []
    },
    {
      "cell_type": "code",
      "source": [
        "y_pred = xgb_cfl.predict(val_x)\n",
        "\n",
        "accuracy = accuracy_score(y_test, [pred_prob >= 0.5 for pred_prob in y_pred])\n",
        "auc = roc_auc_score(y_test, y_pred)\n",
        "\n",
        "print(\"accuracy: \", accuracy)\n",
        "print(\"AUC\", auc)"
      ],
      "metadata": {
        "id": "hUz1oCLM0aDR"
      },
      "execution_count": null,
      "outputs": []
    },
    {
      "cell_type": "code",
      "source": [
        "# Copy the dataset\n",
        "train_preds_df = train_orig_df.copy()\n",
        "# Calculate predicted values\n",
        "train_preds_df['credit'] = xgb_cfl.predict(x_train)\n",
        "# Recode the predictions so that they match the format that the dataset was originally provided in\n",
        "# (1 = good credit, 2 = bad credit)\n",
        "train_preds_df['credit'] = train_preds_df.credit.replace({0:2})"
      ],
      "metadata": {
        "id": "mV6uY_yS0gkw"
      },
      "execution_count": null,
      "outputs": []
    },
    {
      "cell_type": "code",
      "source": [
        "orig_aif360 = StandardDataset(train_orig_df,\n",
        "                              label_name='credit',\n",
        "                              protected_attribute_names=['age'],\n",
        "                              privileged_classes=[[1]], favorable_classes=[1])"
      ],
      "metadata": {
        "id": "Fn0mFlTo1Ii3"
      },
      "execution_count": null,
      "outputs": []
    },
    {
      "cell_type": "code",
      "source": [
        "train_orig_aif360 = BinaryLabelDatasetMetric (orig_aif360,\n",
        "                                               unprivileged_groups = unprivileged_groups,\n",
        "                                               privileged_groups = privileged_groups)\n",
        "\n",
        "print(\"Original Data:\")\n",
        "print(\"Mean difference = %f\" % train_orig_aif360.mean_difference())\n",
        "print(\"Disparate impact = %f\" % train_orig_aif360.disparate_impact())\n",
        "\n",
        "train_preds_aif360 = BinaryLabelDatasetMetric (preds_aif360,\n",
        "                                               unprivileged_groups = unprivileged_groups,\n",
        "                                               privileged_groups = privileged_groups)\n",
        "\n",
        "print(\"\\nPredicted Data using Logistic Regression Model:\")\n",
        "print(\"Mean difference = %f\" % train_preds_aif360.mean_difference())\n",
        "print(\"Disparate impact = %f\" % train_preds_aif360.disparate_impact())"
      ],
      "metadata": {
        "id": "RrLrGpOo1lPY"
      },
      "execution_count": null,
      "outputs": []
    },
    {
      "cell_type": "code",
      "source": [
        "orig_vs_preds_metrics = ClassificationMetric(orig_aif360, preds_aif360,\n",
        "                                             unprivileged_groups=unprivileged_groups,\n",
        "                                             privileged_groups=privileged_groups)\n",
        "\n",
        "print(\"\\nError rate difference (unprivileged error rate - privileged error rate)= %f\" % orig_vs_preds_metrics.error_rate_difference())\n",
        "\n",
        "print(\"\\nFalse negative rate for privileged groups = %f\" % orig_vs_preds_metrics.false_negative_rate(privileged=True))\n",
        "print(\"False negative rate for unprivileged groups = %f\" % orig_vs_preds_metrics.false_negative_rate(privileged=False))\n",
        "print(\"False negative rate ratio = %f\" % orig_vs_preds_metrics.false_negative_rate_ratio())\n",
        "\n",
        "print(\"\\nFalse positive rate for privileged groups = %f\" % orig_vs_preds_metrics.false_positive_rate(privileged=True))\n",
        "print(\"False positive rate for unprivileged groups = %f\" % orig_vs_preds_metrics.false_positive_rate(privileged=False))\n",
        "print(\"False positive rate ratio = %f\" % orig_vs_preds_metrics.false_positive_rate_ratio())"
      ],
      "metadata": {
        "id": "S6qkmpc31mWd"
      },
      "execution_count": null,
      "outputs": []
    },
    {
      "cell_type": "markdown",
      "source": [
        "# Train Classifier to Predict Credict Using the Original Data"
      ],
      "metadata": {
        "id": "eKha0jdx3bcd"
      }
    },
    {
      "cell_type": "code",
      "source": [
        "x_train_noage = x_train.drop(\"age\", axis=1)\n",
        "x_test_noage  = x_test.drop(\"age\", axis=1)\n",
        "\n",
        "xgb_noage = xgb_cfl.fit(x_train_noage,\n",
        "                          y_train,\n",
        "                          sample_weight=None)\n",
        "\n",
        "y_pred_noage = xgb_noage.predict(x_test_noage)\n",
        "\n",
        "accuracy = accuracy_score(y_test, [pred_prob >= 0.5 for pred_prob in y_pred_noage])\n",
        "auc = roc_auc_score(y_test, y_pred_noage)\n",
        "\n",
        "print(\"accuracy: \", accuracy)\n",
        "print(\"AUC\", auc)"
      ],
      "metadata": {
        "id": "BMXlO9D91rk0"
      },
      "execution_count": null,
      "outputs": []
    },
    {
      "cell_type": "code",
      "source": [
        "preds_df_noage = train_orig_df.copy()\n",
        "preds_df_noage['credit'] = xgb_noage.predict(x_train.drop('age', axis=1))\n",
        "preds_df_noage['credit'] = preds_df_noage.credit.replace({0:2})"
      ],
      "metadata": {
        "id": "tS3kaiQf12J-"
      },
      "execution_count": null,
      "outputs": []
    },
    {
      "cell_type": "code",
      "source": [
        "preds_df_noage = train_orig_df.copy()\n",
        "preds_df_noage['credit'] = xgb_noage.predict(x_train.drop('age', axis=1))\n",
        "preds_df_noage['credit'] = preds_df_noage.credit.replace({0:2})\n",
        "\n",
        "noage_preds_aif360 = StandardDataset (preds_df_noage, label_name = \"credit\", protected_attribute_names=[\"age\"],\n",
        "                                     privileged_classes=[[1]], favorable_classes=[1])\n",
        "\n",
        "noage_preds_metrics = BinaryLabelDatasetMetric(noage_preds_aif360,\n",
        "                                               unprivileged_groups=unprivileged_groups,\n",
        "                                               privileged_groups=privileged_groups)\n",
        "\n",
        "print(\"Mean difference = %f\" % noage_preds_metrics.mean_difference())\n",
        "print(\"Disparate impact = %f\" % noage_preds_metrics.disparate_impact())\n",
        "\n",
        "orig_vs_noage_preds_metrics = ClassificationMetric(orig_aif360, noage_preds_aif360,\n",
        "                                             unprivileged_groups=unprivileged_groups,\n",
        "                                             privileged_groups=privileged_groups)\n",
        "\n",
        "print(\"\\nError rate difference (unprivileged error rate - privileged error rate)= %f\" % orig_vs_noage_preds_metrics.error_rate_difference())\n",
        "\n",
        "print(\"\\nFalse negative rate for privileged groups = %f\" % orig_vs_noage_preds_metrics.false_negative_rate(privileged=True))\n",
        "print(\"False negative rate for unprivileged groups = %f\" % orig_vs_noage_preds_metrics.false_negative_rate(privileged=False))\n",
        "print(\"False negative rate ratio = %f\" % orig_vs_noage_preds_metrics.false_negative_rate_ratio())\n",
        "\n",
        "print(\"\\nFalse positive rate for privileged groups = %f\" % orig_vs_noage_preds_metrics.false_positive_rate(privileged=True))\n",
        "print(\"False positive rate for unprivileged groups = %f\" % orig_vs_noage_preds_metrics.false_positive_rate(privileged=False))\n",
        "print(\"False positive rate ratio = %f\" % orig_vs_noage_preds_metrics.false_positive_rate_ratio())"
      ],
      "metadata": {
        "id": "vg1utwrM14hE"
      },
      "execution_count": null,
      "outputs": []
    },
    {
      "cell_type": "markdown",
      "source": [
        "# Pre-Processing"
      ],
      "metadata": {
        "id": "bASsqUGz2zjp"
      }
    },
    {
      "cell_type": "code",
      "source": [
        "RW = Reweighing(unprivileged_groups=unprivileged_groups,\n",
        "                privileged_groups=privileged_groups)\n",
        "RW_fit = RW.fit(train_orig)"
      ],
      "metadata": {
        "id": "P7Yv3Nkj19Uu"
      },
      "execution_count": null,
      "outputs": []
    },
    {
      "cell_type": "code",
      "source": [
        "train_reweighed = RW_fit.transform(train_orig)\n",
        "training_weights = train_reweighed.instance_weights\n",
        "training_weights[:10]"
      ],
      "metadata": {
        "id": "D_iR_rAo2Q3s"
      },
      "execution_count": null,
      "outputs": []
    },
    {
      "cell_type": "code",
      "source": [
        "xgb_weights = xgb_cfl.fit(x_train_noage,\n",
        "                            y_train,\n",
        "                            sample_weight=training_weights)\n",
        "\n",
        "y_pred_weights = xgb_weights.predict(x_test_noage)\n",
        "\n",
        "accuracy = accuracy_score(y_test, [pred_prob >= 0.5 for pred_prob in y_pred_weights])\n",
        "auc = roc_auc_score(y_test, y_pred_weights)\n",
        "\n",
        "print(\"accuracy: \", accuracy)\n",
        "print(\"AUC\", auc)"
      ],
      "metadata": {
        "id": "EEDnGFoN2Zw-"
      },
      "execution_count": null,
      "outputs": []
    },
    {
      "cell_type": "code",
      "source": [
        "train_preds_df_weights = train_orig_df.copy()\n",
        "train_preds_df_weights['credit'] = xgb_weights.predict(x_train.drop('age', axis=1))\n",
        "train_preds_df_weights['credit'] = train_preds_df_weights.credit.replace({0:2})"
      ],
      "metadata": {
        "id": "Uu_g5TRv2qQO"
      },
      "execution_count": null,
      "outputs": []
    },
    {
      "cell_type": "code",
      "source": [
        "train_preds_df_weights = train_orig_df.copy()\n",
        "train_preds_df_weights['credit'] = xgb_noage.predict(x_train.drop('age', axis=1))\n",
        "train_preds_df_weights['credit'] = preds_df_noage.credit.replace({0:2})\n",
        "\n",
        "preds_weights_aif360 = StandardDataset (train_preds_df_weights, label_name = \"credit\", protected_attribute_names=[\"age\"],\n",
        "                                     privileged_classes=[[1]], favorable_classes=[1])\n",
        "\n",
        "preds_weights_metrics = BinaryLabelDatasetMetric(preds_weights_aif360,\n",
        "                                               unprivileged_groups=unprivileged_groups,\n",
        "                                               privileged_groups=privileged_groups)\n",
        "\n",
        "print(\"Mean difference = %f\" % preds_weights_metrics.mean_difference())\n",
        "print(\"Disparate impact = %f\" % preds_weights_metrics.disparate_impact())\n",
        "\n",
        "orig_vs_preds_weights_metrics = ClassificationMetric(orig_aif360, preds_weights_aif360,\n",
        "                                             unprivileged_groups=unprivileged_groups,\n",
        "                                             privileged_groups=privileged_groups)\n",
        "\n",
        "print(\"\\nError rate difference (unprivileged error rate - privileged error rate)= %f\" % orig_vs_preds_metrics.error_rate_difference())\n",
        "\n",
        "print(\"\\nFalse negative rate for privileged groups = %f\" % orig_vs_preds_weights_metrics.false_negative_rate(privileged=True))\n",
        "print(\"False negative rate for unprivileged groups = %f\" % orig_vs_preds_weights_metrics.false_negative_rate(privileged=False))\n",
        "print(\"False negative rate ratio = %f\" % orig_vs_preds_weights_metrics.false_negative_rate_ratio())\n",
        "\n",
        "print(\"\\nFalse positive rate for privileged groups = %f\" % orig_vs_preds_weights_metrics.false_positive_rate(privileged=True))\n",
        "print(\"False positive rate for unprivileged groups = %f\" % orig_vs_preds_weights_metrics.false_positive_rate(privileged=False))\n",
        "print(\"False positive rate ratio = %f\" % orig_vs_preds_weights_metrics.false_positive_rate_ratio())"
      ],
      "metadata": {
        "id": "uwrDbZLh2tEN"
      },
      "execution_count": null,
      "outputs": []
    },
    {
      "cell_type": "markdown",
      "source": [
        "# Post-Processing"
      ],
      "metadata": {
        "id": "hLXUG6CU22jo"
      }
    },
    {
      "cell_type": "code",
      "source": [
        "eq_odds = EqOddsPostprocessing(unprivileged_groups=unprivileged_groups, privileged_groups=privileged_groups, seed=47)\n",
        "preds_weights_eq_odds_aif360 = eq_odds.fit_predict(orig_aif360, preds_weights_aif360)"
      ],
      "metadata": {
        "id": "lxL8DDmp3ABE"
      },
      "execution_count": null,
      "outputs": []
    },
    {
      "cell_type": "code",
      "source": [
        "preds_weights_eq_odds_metrics = BinaryLabelDatasetMetric(\n",
        "    preds_weights_eq_odds_aif360,\n",
        "    unprivileged_groups=unprivileged_groups,\n",
        "    privileged_groups=privileged_groups\n",
        "  )\n",
        "\n",
        "orig_vs_preds_weights_eq_odds_metrics = ClassificationMetric(\n",
        "    orig_aif360,\n",
        "    preds_weights_eq_odds_aif360,\n",
        "    unprivileged_groups=unprivileged_groups,\n",
        "    privileged_groups=privileged_groups\n",
        "  )\n",
        "\n",
        "print(\"Mean difference = %f\" % preds_weights_eq_odds_metrics.mean_difference())\n",
        "print(\"Disparate Impact = %f\" % preds_weights_eq_odds_metrics.disparate_impact())\n",
        "\n",
        "print(\"\\nError rate difference (unprivileged error rate - privileged error rate)= %f\" % orig_vs_preds_weights_eq_odds_metrics.error_rate_difference())\n",
        "\n",
        "print(\"\\nFalse negative rate for privileged groups = %f\" % orig_vs_preds_weights_eq_odds_metrics.false_negative_rate(privileged=True))\n",
        "print(\"False negative rate for unprivileged groups = %f\" % orig_vs_preds_weights_eq_odds_metrics.false_negative_rate(privileged=False))\n",
        "print(\"False negative rate ratio = %f\" % orig_vs_preds_weights_eq_odds_metrics.false_negative_rate_ratio())\n",
        "\n",
        "print(\"\\nFalse positive rate for privileged groups = %f\" % orig_vs_preds_weights_eq_odds_metrics.false_positive_rate(privileged=True))\n",
        "print(\"False positive rate for unprivileged groups = %f\" % orig_vs_preds_weights_eq_odds_metrics.false_positive_rate(privileged=False))\n",
        "print(\"False positive rate ratio = %f\" % orig_vs_preds_weights_eq_odds_metrics.false_positive_rate_ratio())"
      ],
      "metadata": {
        "id": "DQnVFy5E3EVr"
      },
      "execution_count": null,
      "outputs": []
    },
    {
      "cell_type": "code",
      "source": [
        "print(\"\\nAccuracy (on training data) before equality of odds algorithm = %f\" % orig_vs_preds_weights_metrics.accuracy())\n",
        "print(\"\\nAccuracy (on training data) after equality of odds algorithm = %f\" % orig_vs_preds_weights_eq_odds_metrics.accuracy())"
      ],
      "metadata": {
        "id": "zxH44Dzz3Ss2"
      },
      "execution_count": null,
      "outputs": []
    },
    {
      "cell_type": "markdown",
      "source": [
        "## {Framework 02}"
      ],
      "metadata": {
        "id": "OnjfOY8lX08B"
      }
    },
    {
      "cell_type": "code",
      "source": [],
      "metadata": {
        "id": "GaF1K-WLXvj-"
      },
      "execution_count": null,
      "outputs": []
    }
  ],
  "metadata": {
    "kernelspec": {
      "display_name": "Python 3",
      "language": "python",
      "name": "python3"
    },
    "language_info": {
      "codemirror_mode": {
        "name": "ipython",
        "version": 3
      },
      "file_extension": ".py",
      "mimetype": "text/x-python",
      "name": "python",
      "nbconvert_exporter": "python",
      "pygments_lexer": "ipython3",
      "version": "3.6.6"
    },
    "colab": {
      "provenance": [],
      "collapsed_sections": [
        "dVqwwvu2eRu7",
        "xOuymY2DeRu7",
        "Byl74xZJeRu_"
      ]
    }
  },
  "nbformat": 4,
  "nbformat_minor": 0
}